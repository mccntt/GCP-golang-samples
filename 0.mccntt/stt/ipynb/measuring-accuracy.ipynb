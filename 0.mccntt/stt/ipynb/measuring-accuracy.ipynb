{
 "cells": [
  {
   "cell_type": "markdown",
   "metadata": {},
   "source": [
    "# Welcome to the Measuring Speech Accuracy notebook!\n",
    "\n",
    "Please click the ► button above to get started. As the blue highlight moves to the next section, read that section to understand what will happen, then click ► to proceed.\n",
    "\n",
    "# Gather Audio Files and Ground Truth\n",
    "\n",
    "We have curated these files for you. The audios are stored in a GCS bucket. Below, we map the ground truth text to the file names in the bucket using the format:\\\n",
    "`\"FILENAME the ground truth transcript\n",
    "FILENAME2 the ground truth transcript 2\"`,\n",
    "one line per file."
   ]
  },
  {
   "cell_type": "code",
   "execution_count": null,
   "metadata": {},
   "outputs": [],
   "source": [
    "audio_map = \"\"\"367-130732-0000 LOBSTERS AND LOBSTERS\n",
    "367-130732-0001 WHEN IS A LOBSTER NOT A LOBSTER WHEN IT IS A CRAYFISH\n",
    "367-130732-0002 THIS QUESTION AND ANSWER MIGHT WELL GO INTO THE PRIMER OF INFORMATION FOR THOSE WHO COME TO SAN FRANCISCO FROM THE EAST FOR WHAT IS CALLED A LOBSTER IN SAN FRANCISCO IS NOT A LOBSTER AT ALL BUT A CRAYFISH\n",
    "367-130732-0004 A BOOK COULD BE WRITTEN ABOUT THIS RESTAURANT AND THEN ALL WOULD NOT BE TOLD FOR ALL ITS SECRETS CAN NEVER BE KNOWN\n",
    "367-130732-0005 IT WAS HERE THAT MOST MAGNIFICENT DINNERS WERE ARRANGED IT WAS HERE THAT EXTRAORDINARY DISHES WERE CONCOCTED BY CHEFS OF WORLD WIDE FAME IT WAS HERE THAT LOBSTER A LA NEWBERG REACHED ITS HIGHEST PERFECTION AND THIS IS THE RECIPE THAT WAS FOLLOWED WHEN IT WAS PREPARED IN THE DELMONICO\n",
    "367-130732-0006 LOBSTER A LA NEWBERG\n",
    "367-130732-0007 ONE POUND OF LOBSTER MEAT ONE TEASPOONFUL OF BUTTER ONE HALF PINT OF CREAM YOLKS OF FOUR EGGS ONE WINE GLASS OF SHERRY LOBSTER FAT\n",
    "367-130732-0008 PUT THIS IN A DOUBLE BOILER AND LET COOK UNTIL THICK STIRRING CONSTANTLY\n",
    "367-130732-0009 SERVE IN A CHAFING DISH WITH THIN SLICES OF DRY TOAST\n",
    "367-130732-0010 KING OF SHELL FISH\n",
    "367-130732-0011 ONE HAS TO COME TO SAN FRANCISCO TO PARTAKE OF THE KING OF SHELL FISH THE MAMMOTH PACIFIC CRAB\n",
    "367-130732-0012 I SAY COME TO SAN FRANCISCO ADVISEDLY FOR WHILE THE CRAB IS FOUND ALL ALONG THE COAST IT IS PREPARED NOWHERE SO DELICIOUSLY AS IN SAN FRANCISCO\n",
    "367-130732-0013 GOBEY'S PASSED WITH THE FIRE AND THE LITTLE RESTAURANT BEARING HIS NAME AND IN CHARGE OF HIS WIDOW IN UNION SQUARE AVENUE HAS NOT ATTAINED THE FAME OF THE OLD PLACE\n",
    "367-130732-0014 IT IS POSSIBLE THAT SHE KNOWS THE SECRET OF PREPARING CRAB AS IT WAS PREPARED IN THE GOBEY'S OF BEFORE THE FIRE BUT HIS PRESTIGE DID NOT DESCEND TO HER\n",
    "367-130732-0015 GOBEY'S CRAB STEW\n",
    "367-130732-0016 TAKE THE MEAT OF ONE LARGE CRAB SCRAPING OUT ALL OF THE FAT FROM THE SHELL\n",
    "367-130732-0017 SOAK THE CRAB MEAT IN THE SHERRY TWO HOURS BEFORE COOKING\n",
    "367-130732-0018 CHOP FINE THE ONION SWEET PEPPER AND TOMATO WITH THE ROSEMARY\n",
    "367-130732-0019 HEAT THIS IN A STEWPAN AND WHEN SIMMERING ADD THE SHERRY AND CRAB MEAT AND LET ALL COOK TOGETHER WITH A SLOW FIRE FOR EIGHT MINUTES\n",
    "367-130732-0020 SERVE IN A CHAFING DISH WITH TOASTED CRACKERS OR THIN SLICES OF TOASTED BREAD\n",
    "367-130732-0021 LOBSTER IN MINIATURE\n",
    "367-130732-0022 SO FAR IT HAS BEEN USED MOSTLY FOR GARNISHMENT OF OTHER DISHES AND IT IS ONLY RECENTLY THAT THE HOF BRAU HAS BEEN MAKING A SPECIALTY OF THEM\n",
    "367-130732-0023 ALL OF THE BETTER CLASS RESTAURANTS HOWEVER WILL SERVE THEM IF YOU ORDER THEM\n",
    "367-130732-0024 THIS IS THE RECIPE FOR EIGHT PEOPLE AND IT IS WELL WORTH TRYING IF YOU ARE GIVING A DINNER OF IMPORTANCE\n",
    "367-130732-0025 BISQUE OF CRAWFISH\n",
    "367-130732-0026 TAKE 30 CRAWFISH FROM WHICH REMOVE THE GUT CONTAINING THE GALL IN THE FOLLOWING MANNER TAKE FIRM HOLD OF THE CRAWFISH WITH THE LEFT HAND SO AS TO AVOID BEING PINCHED BY ITS CLAWS WITH THE THUMB AND FOREFINGER OF THE RIGHT HAND PINCH THE EXTREME END OF THE CENTRAL FIN OF THE TAIL AND WITH A SUDDEN JERK THE GUT WILL BE WITHDRAWN\n",
    "367-130732-0027 MINCE OR CUT INTO SMALL DICE A CARROT AN ONION ONE HEAD OF CELERY AND A FEW PARSLEY ROOTS AND TO THESE ADD A BAY LEAF A SPRIG OF THYME A LITTLE MINIONETTE PEPPER AND TWO OUNCES OF BUTTER\n",
    "367-130732-0028 PUT THESE INGREDIENTS INTO A STEWPAN AND FRY THEM 10 MINUTES THEN THROW IN THE CRAWFISH AND POUR ON THEM HALF A BOTTLE OF FRENCH WHITE WINE\n",
    "367-130732-0029 ALLOW THIS TO BOIL AND THEN ADD A QUART OF STRONG CONSOMME AND LET ALL CONTINUE BOILING FOR HALF AN HOUR\n",
    "367-130732-0030 PICK OUT THE CRAWFISH AND STRAIN THE BROTH THROUGH A NAPKIN BY PRESSURE INTO A BASIN IN ORDER TO EXTRACT ALL THE ESSENCE FROM THE VEGETABLES\n",
    "367-130732-0031 PICK THE SHELLS OFF 25 OF THE CRAWFISH TAILS TRIM THEM NEATLY AND SET THEM ASIDE UNTIL WANTED\n",
    "367-130732-0032 RESERVE SOME OF THE SPAWN ALSO HALF OF THE BODY SHELLS WITH WHICH TO MAKE THE CRAWFISH BUTTER TO FINISH THE SOUP\n",
    "367-130732-0033 THIS BUTTER IS MADE AS FOLLOWS PLACE THE SHELLS ON A BAKING SHEET IN THE OVEN TO DRY LET THE SHELLS COOL AND THEN POUND THEM IN A MORTAR WITH A LITTLE LOBSTER CORAL AND FOUR OUNCES OF FRESH BUTTER THOROUGHLY BRUISING THE WHOLE TOGETHER SO AS TO MAKE A FINE PASTE\n",
    "s2-130732-0000 Three hours before cooking pour the sherry over the lobster meat and let it stand until ready to cook\n",
    "s2-130732-0001 Heat the butter and stir in with the lobster and wine then place this in a stewpan or chafing dish and cook for eight minutes\n",
    "s2-130732-0002 Have the yolks of eggs well beaten and add to them the cream and lobster fat stir well and then stir in a teaspoonful of flour\n",
    "s2-130732-0003 Serve in a chafing dish with thin slices of dry toast\n",
    "1-130732-0000 When is a lobster not a lobster When it is a crayfish This question and answer might well go into the primer of information for those who come to San Francisco from the East\n",
    "1-130732-0001 for what is called a lobster in San Francisco is not a lobster at all but a crayfish The true lobster is not found in the Pacific along the California coast and so far efforts at transplanting have not been successful\n",
    "4-130732-0000 Probably nowhere in San Francisco could one get lobster better served than in the Old Delmonico restaurant of the days before the fire\n",
    "4-130732-0001 A book could be written about this restaurant and then all would not be told for all its secrets can never be known\n",
    "s3-130732-0000 Take the meat of one large crab scraping out all of the fat from the shell\n",
    "s3-130732-0001 Chop fine the onion sweet pepper and tomato with the rosemary Mash the clove of garlic rubbing thoroughly in a mortar and on this put the butter and flour mixing well together and gradually adding the salt and minionette pepper and stir in two tablespoonfuls of cream\n",
    "s3-130732-0002 The full flavor of the crawfish is best obtained in a bisque and the best recipe for this is by the famous chef Francatelli who boasts having been the head of the cuisine of Queen Victoria\n",
    "s3-130732-0003 In New York City they have what they are pleased to call \"Lobster Palaces\" but there is not a restaurant in that great metropolis that could approach the Delmonico of San Francisco in its splendid service and its cuisine arrangements\n",
    "s3-130732-0004 In the pre-fire days there were many places which paid especial attention to the cooking of the crab among them being the Cobweb Palace\"\"\""
   ]
  },
  {
   "cell_type": "markdown",
   "metadata": {},
   "source": [
    "# Get the Machine Transcript\n",
    "\n",
    "Next we import the Speech client library and call the Recognize method once for each audio file."
   ]
  },
  {
   "cell_type": "code",
   "execution_count": null,
   "metadata": {},
   "outputs": [],
   "source": [
    "!pip install --upgrade google-cloud-speech"
   ]
  },
  {
   "cell_type": "code",
   "execution_count": null,
   "metadata": {},
   "outputs": [],
   "source": [
    "from google.cloud import speech_v1p1beta1 as speech\n",
    "client = speech.SpeechClient()\n",
    "encoding = speech.types.RecognitionConfig.AudioEncoding\n",
    "\n",
    "config = speech.RecognitionConfig(\n",
    "    encoding=encoding.LINEAR16,\n",
    "    model=\"video\",\n",
    "    language_code=\"en-US\",\n",
    ")\n",
    "\n",
    "transcripts_by_name = {}\n",
    "\n",
    "for line in audio_map.splitlines():\n",
    "    # Parse ground truth map\n",
    "    words = line.split()\n",
    "    name = words[0]\n",
    "    \n",
    "    audio = speech.RecognitionAudio(uri=f\"gs://spls/gsp758/clean/{name}.wav\")\n",
    "    \n",
    "    # See https://cloud.google.com/speech-to-text/docs/reference/rpc/google.cloud.speech.v1p1beta1#recognizerequest\n",
    "    response = client.recognize(config=config, audio=audio)\n",
    "    \n",
    "    # Collect results\n",
    "    transcripts_by_name[name] = {\n",
    "        \"hypothesis\": \"\".join([result.alternatives[0].transcript\n",
    "                               for result in response.results]),\n",
    "        \"reference\": \" \".join(words[1:])\n",
    "    }"
   ]
  },
  {
   "cell_type": "markdown",
   "metadata": {},
   "source": [
    "# Compute the WER\n",
    "\n",
    "Finally we add the transcripts to a WER analysis object and compute the results."
   ]
  },
  {
   "cell_type": "code",
   "execution_count": null,
   "metadata": {},
   "outputs": [],
   "source": [
    "import simple_wer_v2 as wer\n",
    "from IPython.display import display, HTML\n",
    "\n",
    "analysis = wer.SimpleWER(\n",
    "    html_handler=wer.HighlightAlignedHtml,\n",
    "    preprocess_handler=wer.RemoveCommentTxtPreprocess)\n",
    "\n",
    "for name, transcripts in transcripts_by_name.items():\n",
    "    analysis.AddHypRef(transcripts[\"hypothesis\"], transcripts[\"reference\"],\n",
    "                       f'<audio controls><source src=\"https://storage.cloud.google.com/spls/gsp758/clean/{name}.wav\" type=\"audio/wav\">{name}</audio>')\n",
    "    \n",
    "    \n",
    "summary, details, keyphrases = analysis.GetSummaries()\n",
    "\n",
    "aligned_html = f\"\"\"<body><html>\n",
    "<h1>WER Results</h1>\n",
    "<div>{summary}<br>{details}<br><b>{keyphrases}</b></div>\n",
    "<table>{\"\".join(analysis.aligned_htmls)}</table>\n",
    "</body></html>\"\"\"\n",
    "\n",
    "results = HTML(aligned_html)\n",
    "display(results)"
   ]
  },
  {
   "cell_type": "markdown",
   "metadata": {},
   "source": [
    "Once you've clicked ► on each section, please be patient for the results to load here. The \"Machine Transcript\" section takes a minute or so to run. The \"WER\" section will not run until the previous sections have finished."
   ]
  },
  {
   "cell_type": "code",
   "execution_count": null,
   "metadata": {},
   "outputs": [],
   "source": []
  }
 ],
 "metadata": {
  "environment": {
   "name": "common-cpu.m55",
   "type": "gcloud",
   "uri": "gcr.io/deeplearning-platform-release/base-cpu:m55"
  },
  "kernelspec": {
   "display_name": "Python 3 (ipykernel)",
   "language": "python",
   "name": "python3"
  },
  "language_info": {
   "codemirror_mode": {
    "name": "ipython",
    "version": 3
   },
   "file_extension": ".py",
   "mimetype": "text/x-python",
   "name": "python",
   "nbconvert_exporter": "python",
   "pygments_lexer": "ipython3",
   "version": "3.9.2"
  }
 },
 "nbformat": 4,
 "nbformat_minor": 4
}
